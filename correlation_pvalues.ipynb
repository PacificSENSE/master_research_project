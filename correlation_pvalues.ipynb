{
 "cells": [
  {
   "cell_type": "code",
   "execution_count": 1,
   "id": "a138117e",
   "metadata": {},
   "outputs": [
    {
     "name": "stderr",
     "output_type": "stream",
     "text": [
      "/g/data3/hh5/public/apps/miniconda3/envs/analysis3-21.04/lib/python3.8/site-packages/xarray/coding/times.py:119: SerializationWarning: Ambiguous reference date string: 1-1-1 0:0:0. The first value is assumed to be the year hence will be padded with zeros to remove the ambiguity (the padded reference date string is: 0001-1-1 0:0:0). To remove this message, remove the ambiguity by padding your reference date strings with zeros.\n",
      "  warnings.warn(warning_msg, SerializationWarning)\n",
      "/g/data3/hh5/public/apps/miniconda3/envs/analysis3-21.04/lib/python3.8/site-packages/xarray/coding/times.py:527: SerializationWarning: Unable to decode time axis into full numpy.datetime64 objects, continuing using cftime.datetime objects instead, reason: dates out of range\n",
      "  dtype = _decode_cf_datetime_dtype(data, units, calendar, self.use_cftime)\n",
      "/g/data3/hh5/public/apps/miniconda3/envs/analysis3-21.04/lib/python3.8/site-packages/xarray/core/indexing.py:572: SerializationWarning: Unable to decode time axis into full numpy.datetime64 objects, continuing using cftime.datetime objects instead, reason: dates out of range\n",
      "  return np.asarray(array[self.key], dtype=None)\n"
     ]
    }
   ],
   "source": [
    "import xarray as xr\n",
    "import netCDF4 as nc\n",
    "import numpy as np\n",
    "import matplotlib.pyplot as plt\n",
    "%matplotlib inline\n",
    "ds=xr.open_dataset('/g/data/eg3/jxb548/OBSDATA/rr_monthly_0.25.1900-2015.nc')\n",
    "rr=ds.rr\n",
    "land_sea_ds = xr.open_dataset('/g/data/eg3/pfd548/gridarea/land-sea_mask/fractional_land.1.5-deg.nc')\n",
    "nw_area=rr.sel(lat=slice(-26,-10),lon=slice(112,138))\n",
    "ne_area=rr.sel(lat=slice(-26,-10),lon=slice(138,156))\n",
    "url = 'http://dapds00.nci.org.au/thredds/dodsC/rr3/CMIP5/output1/CSIRO-BOM/ACCESS1-3/historical/fx/atmos/fx/r0i0p0/latest/sftlf/sftlf_fx_ACCESS1-3_historical_r0i0p0.nc'\n",
    "landfrac = xr.open_dataset(url).sftlf\n",
    "nw_land=nw_area.where(landfrac>0)\n",
    "ne_land=ne_area.where(landfrac>0)\n",
    "nw_climate=nw_land.sel(time=slice('1950','1979')).groupby('time.month').mean()\n",
    "ne_climate=ne_land.sel(time=slice('1950','1979')).groupby('time.month').mean()\n",
    "nw_anomaly=(nw_land.groupby('time.month')-nw_climate).mean(dim=['lon','lat'])\n",
    "ne_anomaly=(ne_land.groupby('time.month')-ne_climate).mean(dim=['lon','lat'])\n",
    "nw_DJF=nw_anomaly.groupby('time.season')['DJF']\n",
    "ne_DJF=ne_anomaly.groupby('time.season')['DJF']\n",
    "ds2=xr.open_dataset('/home/563/lx7831/ncfile/sst.mnmean.nc')\n",
    "sst=ds2.sst\n",
    "nino3_area=sst.sel(lat=slice(5,-5),lon=slice(210,270))\n",
    "nino34_area=sst.sel(lat=slice(5,-5),lon=slice(190,240))\n",
    "nino4_area=sst.sel(lat=slice(5,-5),lon=slice(160,210))\n",
    "nino3_climate=nino3_area.sel(time=slice('1950','1979')).groupby('time.month').mean()\n",
    "nino34_climate=nino34_area.sel(time=slice('1950','1979')).groupby('time.month').mean()\n",
    "nino4_climate=nino4_area.sel(time=slice('1950','1979')).groupby('time.month').mean()\n",
    "nino3_anomaly=(nino3_area.groupby('time.month')-nino3_climate).mean(dim='lat').mean(dim='lon')\n",
    "nino34_anomaly=(nino34_area.groupby('time.month')-nino34_climate).mean(dim='lat').mean(dim='lon')\n",
    "nino4_anomaly=(nino4_area.groupby('time.month')-nino4_climate).mean(dim='lat').mean(dim='lon')\n",
    "alpha=xr.where(nino3_anomaly*nino4_anomaly>0,0.4,0)\n",
    "nct=nino3_anomaly-alpha*nino4_anomaly\n",
    "nwp=nino4_anomaly-alpha*nino3_anomaly\n",
    "nino3_rolling=nino3_anomaly.rolling(time=5).mean()\n",
    "nino34_rolling=nino34_anomaly.rolling(time=5).mean()\n",
    "nino4_rolling=nino4_anomaly.rolling(time=5).mean()\n",
    "nct_rolling=nct.rolling(time=5).mean()\n",
    "nwp_rolling=nwp.rolling(time=5).mean()\n",
    "nino3_modern=nino3_rolling.sel(time=slice('1900','2015'))\n",
    "nino34_modern=nino34_rolling.sel(time=slice('1900','2015'))\n",
    "nino4_modern=nino4_rolling.sel(time=slice('1900','2015'))\n",
    "nct_modern=nct_rolling.sel(time=slice('1900','2015'))\n",
    "nwp_modern=nwp_rolling.sel(time=slice('1900','2015'))\n",
    "nino3_DJF=nino3_modern.groupby('time.season')['DJF']\n",
    "nino34_DJF=nino34_modern.groupby('time.season')['DJF']\n",
    "nino4_DJF=nino4_modern.groupby('time.season')['DJF']\n",
    "nct_DJF=nct_modern.groupby('time.season')['DJF']\n",
    "nwp_DJF=nwp_modern.groupby('time.season')['DJF']\n",
    "nct_summer=nct_DJF.resample(time='AS-DEC').mean()\n",
    "nwp_summer=nwp_DJF.resample(time='AS-DEC').mean()\n",
    "nino3_summer=nino3_DJF.resample(time='AS-DEC').mean()\n",
    "nino4_summer=nino4_DJF.resample(time='AS-DEC').mean()\n",
    "nino34_summer=nino34_DJF.resample(time='AS-DEC').mean()\n",
    "nw_summer=nw_DJF.resample(time='AS-DEC').mean()\n",
    "ne_summer=ne_DJF.resample(time='AS-DEC').mean()\n",
    "import pandas as pd\n",
    "nw_SON=nw_anomaly.groupby('time.season')['SON']\n",
    "ne_SON=ne_anomaly.groupby('time.season')['SON']\n",
    "nino3_SON=nino3_modern.groupby('time.season')['SON']\n",
    "nino34_SON=nino34_modern.groupby('time.season')['SON']\n",
    "nino4_SON=nino4_modern.groupby('time.season')['SON']\n",
    "nct_SON=nct_modern.groupby('time.season')['SON']\n",
    "nwp_SON=nwp_modern.groupby('time.season')['SON']\n",
    "nct_spring=nct_SON.resample(time='AS-SEP').mean()\n",
    "nwp_spring=nwp_SON.resample(time='AS-SEP').mean()\n",
    "nino3_spring=nino3_SON.resample(time='AS-SEP').mean()\n",
    "nino4_spring=nino4_SON.resample(time='AS-SEP').mean()\n",
    "nino34_spring=nino34_SON.resample(time='AS-SEP').mean()\n",
    "nw_spring=nw_SON.resample(time='AS-SEP').mean()\n",
    "ne_spring=ne_SON.resample(time='AS-SEP').mean()\n",
    "nw_MAM=nw_anomaly.groupby('time.season')['MAM']\n",
    "ne_MAM=ne_anomaly.groupby('time.season')['MAM']\n",
    "nino3_MAM=nino3_modern.groupby('time.season')['MAM']\n",
    "nino34_MAM=nino34_modern.groupby('time.season')['MAM']\n",
    "nino4_MAM=nino4_modern.groupby('time.season')['MAM']\n",
    "nct_MAM=nct_modern.groupby('time.season')['MAM']\n",
    "nwp_MAM=nwp_modern.groupby('time.season')['MAM']\n",
    "nct_autumn=nct_MAM.resample(time='AS-MAR').mean()\n",
    "nwp_autumn=nwp_MAM.resample(time='AS-MAR').mean()\n",
    "nino3_autumn=nino3_MAM.resample(time='AS-MAR').mean()\n",
    "nino4_autumn=nino4_MAM.resample(time='AS-MAR').mean()\n",
    "nino34_autumn=nino34_MAM.resample(time='AS-MAR').mean()\n",
    "nw_autumn=nw_MAM.resample(time='AS-MAR').mean()\n",
    "ne_autumn=ne_MAM.resample(time='AS-MAR').mean()\n",
    "import scipy"
   ]
  },
  {
   "cell_type": "code",
   "execution_count": 2,
   "id": "6ea537a1",
   "metadata": {},
   "outputs": [
    {
     "ename": "AttributeError",
     "evalue": "module 'scipy' has no attribute 'stats'",
     "output_type": "error",
     "traceback": [
      "\u001b[0;31m---------------------------------------------------------------------------\u001b[0m",
      "\u001b[0;31mAttributeError\u001b[0m                            Traceback (most recent call last)",
      "\u001b[0;32m<ipython-input-2-be44a984b4c9>\u001b[0m in \u001b[0;36m<module>\u001b[0;34m\u001b[0m\n\u001b[0;32m----> 1\u001b[0;31m \u001b[0mscipy\u001b[0m\u001b[0;34m.\u001b[0m\u001b[0mstats\u001b[0m\u001b[0;34m.\u001b[0m\u001b[0mttest_ind\u001b[0m\u001b[0;34m\u001b[0m\u001b[0;34m\u001b[0m\u001b[0m\n\u001b[0m",
      "\u001b[0;31mAttributeError\u001b[0m: module 'scipy' has no attribute 'stats'"
     ]
    }
   ],
   "source": [
    "scipy.stats.ttest_ind"
   ]
  },
  {
   "cell_type": "code",
   "execution_count": 3,
   "id": "c91bef9c",
   "metadata": {},
   "outputs": [],
   "source": [
    "import scipy.stats"
   ]
  },
  {
   "cell_type": "code",
   "execution_count": 4,
   "id": "2b2faa02",
   "metadata": {},
   "outputs": [
    {
     "data": {
      "text/plain": [
       "<function scipy.stats.stats.ttest_ind(a, b, axis=0, equal_var=True, nan_policy='propagate', permutations=None, random_state=None, alternative='two-sided', trim=0)>"
      ]
     },
     "execution_count": 4,
     "metadata": {},
     "output_type": "execute_result"
    }
   ],
   "source": [
    "scipy.stats.ttest_ind"
   ]
  },
  {
   "cell_type": "code",
   "execution_count": 5,
   "id": "f4016029",
   "metadata": {},
   "outputs": [
    {
     "data": {
      "text/plain": [
       "Ttest_indResult(statistic=2.1249331427956237, pvalue=0.03368010918849195)"
      ]
     },
     "execution_count": 5,
     "metadata": {},
     "output_type": "execute_result"
    }
   ],
   "source": [
    "scipy.stats.ttest_ind(nino3_modern,nino4_modern)"
   ]
  },
  {
   "cell_type": "code",
   "execution_count": 6,
   "id": "41a3ed5a",
   "metadata": {},
   "outputs": [
    {
     "data": {
      "text/plain": [
       "Ttest_indResult(statistic=5.7735581635984605, pvalue=8.620280395690982e-09)"
      ]
     },
     "execution_count": 6,
     "metadata": {},
     "output_type": "execute_result"
    }
   ],
   "source": [
    "scipy.stats.ttest_ind(nino4_modern,ne_anomaly)"
   ]
  },
  {
   "cell_type": "code",
   "execution_count": 7,
   "id": "a472942d",
   "metadata": {},
   "outputs": [
    {
     "data": {
      "text/plain": [
       "Ttest_indResult(statistic=2.1910233494042344, pvalue=0.028532776823314957)"
      ]
     },
     "execution_count": 7,
     "metadata": {},
     "output_type": "execute_result"
    }
   ],
   "source": [
    "scipy.stats.ttest_ind(nino3_modern,nw_anomaly)"
   ]
  },
  {
   "cell_type": "code",
   "execution_count": 8,
   "id": "be47a212",
   "metadata": {},
   "outputs": [
    {
     "data": {
      "text/plain": [
       "Ttest_indResult(statistic=-0.40919396923215773, pvalue=0.6824288194099003)"
      ]
     },
     "execution_count": 8,
     "metadata": {},
     "output_type": "execute_result"
    }
   ],
   "source": [
    "scipy.stats.ttest_ind(nino34_modern,nw_anomaly)"
   ]
  },
  {
   "cell_type": "code",
   "execution_count": 9,
   "id": "7b7ac05d",
   "metadata": {},
   "outputs": [
    {
     "data": {
      "text/plain": [
       "Ttest_indResult(statistic=0.49406637562807104, pvalue=0.6212983098000768)"
      ]
     },
     "execution_count": 9,
     "metadata": {},
     "output_type": "execute_result"
    }
   ],
   "source": [
    "scipy.stats.ttest_ind(nino4_modern,nw_anomaly)"
   ]
  },
  {
   "cell_type": "code",
   "execution_count": 10,
   "id": "d7ec018f",
   "metadata": {},
   "outputs": [
    {
     "data": {
      "text/plain": [
       "Ttest_indResult(statistic=1.592176582600608, pvalue=0.11145864196377508)"
      ]
     },
     "execution_count": 10,
     "metadata": {},
     "output_type": "execute_result"
    }
   ],
   "source": [
    "scipy.stats.ttest_ind(nct_modern,nw_anomaly)"
   ]
  },
  {
   "cell_type": "code",
   "execution_count": 11,
   "id": "6c9a927b",
   "metadata": {},
   "outputs": [
    {
     "data": {
      "text/plain": [
       "Ttest_indResult(statistic=-1.0407958032744697, pvalue=0.29806076915900526)"
      ]
     },
     "execution_count": 11,
     "metadata": {},
     "output_type": "execute_result"
    }
   ],
   "source": [
    "scipy.stats.ttest_ind(nwp_modern,nw_anomaly)"
   ]
  },
  {
   "cell_type": "code",
   "execution_count": 12,
   "id": "666950d8",
   "metadata": {},
   "outputs": [
    {
     "data": {
      "text/plain": [
       "Ttest_indResult(statistic=6.885176353872552, pvalue=7.106465793954847e-12)"
      ]
     },
     "execution_count": 12,
     "metadata": {},
     "output_type": "execute_result"
    }
   ],
   "source": [
    "scipy.stats.ttest_ind(nino3_modern,ne_anomaly)"
   ]
  },
  {
   "cell_type": "code",
   "execution_count": 13,
   "id": "1213e7e9",
   "metadata": {},
   "outputs": [
    {
     "data": {
      "text/plain": [
       "Ttest_indResult(statistic=4.8022367525590655, pvalue=1.6521025410978323e-06)"
      ]
     },
     "execution_count": 13,
     "metadata": {},
     "output_type": "execute_result"
    }
   ],
   "source": [
    "scipy.stats.ttest_ind(nino34_modern,ne_anomaly)"
   ]
  },
  {
   "cell_type": "code",
   "execution_count": 14,
   "id": "449e6184",
   "metadata": {},
   "outputs": [
    {
     "data": {
      "text/plain": [
       "Ttest_indResult(statistic=5.7735581635984605, pvalue=8.620280395690982e-09)"
      ]
     },
     "execution_count": 14,
     "metadata": {},
     "output_type": "execute_result"
    }
   ],
   "source": [
    "scipy.stats.ttest_ind(nino4_modern,ne_anomaly)"
   ]
  },
  {
   "cell_type": "code",
   "execution_count": 15,
   "id": "1ed95066",
   "metadata": {},
   "outputs": [
    {
     "data": {
      "text/plain": [
       "Ttest_indResult(statistic=6.667165658549681, pvalue=3.133309544164706e-11)"
      ]
     },
     "execution_count": 15,
     "metadata": {},
     "output_type": "execute_result"
    }
   ],
   "source": [
    "scipy.stats.ttest_ind(nct_modern,ne_anomaly)"
   ]
  },
  {
   "cell_type": "code",
   "execution_count": 16,
   "id": "1e08d929",
   "metadata": {},
   "outputs": [
    {
     "data": {
      "text/plain": [
       "Ttest_indResult(statistic=4.924889684086909, pvalue=8.934403899319273e-07)"
      ]
     },
     "execution_count": 16,
     "metadata": {},
     "output_type": "execute_result"
    }
   ],
   "source": [
    "scipy.stats.ttest_ind(nwp_modern,ne_anomaly)"
   ]
  },
  {
   "cell_type": "code",
   "execution_count": 17,
   "id": "4bad320d",
   "metadata": {},
   "outputs": [
    {
     "data": {
      "text/plain": [
       "Ttest_indResult(statistic=1.509070414359517, pvalue=0.13265325357434085)"
      ]
     },
     "execution_count": 17,
     "metadata": {},
     "output_type": "execute_result"
    }
   ],
   "source": [
    "scipy.stats.ttest_ind(nino3_spring,nw_spring)"
   ]
  },
  {
   "cell_type": "code",
   "execution_count": 18,
   "id": "4fb3af0f",
   "metadata": {},
   "outputs": [
    {
     "data": {
      "text/plain": [
       "Ttest_indResult(statistic=0.4326603558811151, pvalue=0.6656669457235239)"
      ]
     },
     "execution_count": 18,
     "metadata": {},
     "output_type": "execute_result"
    }
   ],
   "source": [
    "scipy.stats.ttest_ind(nino34_spring,nw_spring)"
   ]
  },
  {
   "cell_type": "code",
   "execution_count": 19,
   "id": "b276f2e7",
   "metadata": {},
   "outputs": [
    {
     "data": {
      "text/plain": [
       "Ttest_indResult(statistic=1.4680762105156928, pvalue=0.14344974523593004)"
      ]
     },
     "execution_count": 19,
     "metadata": {},
     "output_type": "execute_result"
    }
   ],
   "source": [
    "scipy.stats.ttest_ind(nino4_spring,nw_spring)"
   ]
  },
  {
   "cell_type": "code",
   "execution_count": 20,
   "id": "39010bbd",
   "metadata": {},
   "outputs": [
    {
     "data": {
      "text/plain": [
       "Ttest_indResult(statistic=1.3240761903706117, pvalue=0.1867920949378549)"
      ]
     },
     "execution_count": 20,
     "metadata": {},
     "output_type": "execute_result"
    }
   ],
   "source": [
    "scipy.stats.ttest_ind(nct_spring,nw_spring)"
   ]
  },
  {
   "cell_type": "code",
   "execution_count": 21,
   "id": "3b95ab3b",
   "metadata": {},
   "outputs": [
    {
     "data": {
      "text/plain": [
       "Ttest_indResult(statistic=1.0394310160807294, pvalue=0.29969577702525085)"
      ]
     },
     "execution_count": 21,
     "metadata": {},
     "output_type": "execute_result"
    }
   ],
   "source": [
    "scipy.stats.ttest_ind(nwp_spring,nw_spring)"
   ]
  },
  {
   "cell_type": "code",
   "execution_count": 22,
   "id": "5e656cf8",
   "metadata": {},
   "outputs": [
    {
     "data": {
      "text/plain": [
       "Ttest_indResult(statistic=1.574919949577543, pvalue=0.11664941182298312)"
      ]
     },
     "execution_count": 22,
     "metadata": {},
     "output_type": "execute_result"
    }
   ],
   "source": [
    "scipy.stats.ttest_ind(nino3_spring,ne_spring)"
   ]
  },
  {
   "cell_type": "code",
   "execution_count": 23,
   "id": "2153f912",
   "metadata": {},
   "outputs": [
    {
     "data": {
      "text/plain": [
       "Ttest_indResult(statistic=0.6598765408504739, pvalue=0.5099932987473301)"
      ]
     },
     "execution_count": 23,
     "metadata": {},
     "output_type": "execute_result"
    }
   ],
   "source": [
    "scipy.stats.ttest_ind(nino34_spring,ne_spring)"
   ]
  },
  {
   "cell_type": "code",
   "execution_count": 24,
   "id": "3ea39ad4",
   "metadata": {},
   "outputs": [
    {
     "data": {
      "text/plain": [
       "Ttest_indResult(statistic=1.4872984744843223, pvalue=0.13830562337182192)"
      ]
     },
     "execution_count": 24,
     "metadata": {},
     "output_type": "execute_result"
    }
   ],
   "source": [
    "scipy.stats.ttest_ind(nino4_spring,ne_spring)"
   ]
  },
  {
   "cell_type": "code",
   "execution_count": 25,
   "id": "9334bd93",
   "metadata": {},
   "outputs": [
    {
     "data": {
      "text/plain": [
       "Ttest_indResult(statistic=1.3879044891984271, pvalue=0.16650913999167757)"
      ]
     },
     "execution_count": 25,
     "metadata": {},
     "output_type": "execute_result"
    }
   ],
   "source": [
    "scipy.stats.ttest_ind(nct_spring,ne_spring)"
   ]
  },
  {
   "cell_type": "code",
   "execution_count": 26,
   "id": "13d202e9",
   "metadata": {},
   "outputs": [
    {
     "data": {
      "text/plain": [
       "Ttest_indResult(statistic=1.0960580654037502, pvalue=0.27419968913689535)"
      ]
     },
     "execution_count": 26,
     "metadata": {},
     "output_type": "execute_result"
    }
   ],
   "source": [
    "scipy.stats.ttest_ind(nwp_spring,ne_spring)"
   ]
  },
  {
   "cell_type": "code",
   "execution_count": 27,
   "id": "abc6cf43",
   "metadata": {},
   "outputs": [
    {
     "data": {
      "text/plain": [
       "Ttest_indResult(statistic=-0.4628196913840658, pvalue=0.6439274259962878)"
      ]
     },
     "execution_count": 27,
     "metadata": {},
     "output_type": "execute_result"
    }
   ],
   "source": [
    "scipy.stats.ttest_ind(nino3_summer,nw_summer)"
   ]
  },
  {
   "cell_type": "code",
   "execution_count": 28,
   "id": "f08758fd",
   "metadata": {},
   "outputs": [
    {
     "data": {
      "text/plain": [
       "Ttest_indResult(statistic=-1.1836138496676551, pvalue=0.2377773043579266)"
      ]
     },
     "execution_count": 28,
     "metadata": {},
     "output_type": "execute_result"
    }
   ],
   "source": [
    "scipy.stats.ttest_ind(nino34_summer,nw_summer)"
   ]
  },
  {
   "cell_type": "code",
   "execution_count": 29,
   "id": "d0be613b",
   "metadata": {},
   "outputs": [
    {
     "data": {
      "text/plain": [
       "Ttest_indResult(statistic=-0.792408147654191, pvalue=0.42893225630699705)"
      ]
     },
     "execution_count": 29,
     "metadata": {},
     "output_type": "execute_result"
    }
   ],
   "source": [
    "scipy.stats.ttest_ind(nino4_summer,nw_summer)"
   ]
  },
  {
   "cell_type": "code",
   "execution_count": 30,
   "id": "82e38646",
   "metadata": {},
   "outputs": [
    {
     "data": {
      "text/plain": [
       "Ttest_indResult(statistic=-0.805718960501317, pvalue=0.42122996252944367)"
      ]
     },
     "execution_count": 30,
     "metadata": {},
     "output_type": "execute_result"
    }
   ],
   "source": [
    "scipy.stats.ttest_ind(nct_summer,nw_summer)"
   ]
  },
  {
   "cell_type": "code",
   "execution_count": 31,
   "id": "ee7692d0",
   "metadata": {},
   "outputs": [
    {
     "data": {
      "text/plain": [
       "Ttest_indResult(statistic=-1.436979439111307, pvalue=0.1520710704840601)"
      ]
     },
     "execution_count": 31,
     "metadata": {},
     "output_type": "execute_result"
    }
   ],
   "source": [
    "scipy.stats.ttest_ind(nwp_summer,nw_summer)"
   ]
  },
  {
   "cell_type": "code",
   "execution_count": 32,
   "id": "f3854f69",
   "metadata": {},
   "outputs": [
    {
     "data": {
      "text/plain": [
       "Ttest_indResult(statistic=3.452446040019251, pvalue=0.0006600946461982816)"
      ]
     },
     "execution_count": 32,
     "metadata": {},
     "output_type": "execute_result"
    }
   ],
   "source": [
    "scipy.stats.ttest_ind(nino3_summer,ne_summer)"
   ]
  },
  {
   "cell_type": "code",
   "execution_count": 33,
   "id": "26adaf0e",
   "metadata": {},
   "outputs": [
    {
     "data": {
      "text/plain": [
       "Ttest_indResult(statistic=2.844435158379843, pvalue=0.004846471527737241)"
      ]
     },
     "execution_count": 33,
     "metadata": {},
     "output_type": "execute_result"
    }
   ],
   "source": [
    "scipy.stats.ttest_ind(nino34_summer,ne_summer)"
   ]
  },
  {
   "cell_type": "code",
   "execution_count": 34,
   "id": "d826bdbb",
   "metadata": {},
   "outputs": [
    {
     "data": {
      "text/plain": [
       "Ttest_indResult(statistic=3.54687628841929, pvalue=0.00047157567032585945)"
      ]
     },
     "execution_count": 34,
     "metadata": {},
     "output_type": "execute_result"
    }
   ],
   "source": [
    "scipy.stats.ttest_ind(nino4_summer,ne_summer)"
   ]
  },
  {
   "cell_type": "code",
   "execution_count": 35,
   "id": "b87ff75a",
   "metadata": {},
   "outputs": [
    {
     "data": {
      "text/plain": [
       "Ttest_indResult(statistic=3.5151317646443836, pvalue=0.0005284372512472669)"
      ]
     },
     "execution_count": 35,
     "metadata": {},
     "output_type": "execute_result"
    }
   ],
   "source": [
    "scipy.stats.ttest_ind(nct_summer,ne_summer)"
   ]
  },
  {
   "cell_type": "code",
   "execution_count": 36,
   "id": "51936e07",
   "metadata": {},
   "outputs": [
    {
     "data": {
      "text/plain": [
       "Ttest_indResult(statistic=3.433588633520517, pvalue=0.0007053490101172199)"
      ]
     },
     "execution_count": 36,
     "metadata": {},
     "output_type": "execute_result"
    }
   ],
   "source": [
    "scipy.stats.ttest_ind(nwp_summer,ne_summer)"
   ]
  },
  {
   "cell_type": "code",
   "execution_count": 37,
   "id": "76a30418",
   "metadata": {},
   "outputs": [
    {
     "data": {
      "text/plain": [
       "Ttest_indResult(statistic=0.9200663501007837, pvalue=0.35850205174737004)"
      ]
     },
     "execution_count": 37,
     "metadata": {},
     "output_type": "execute_result"
    }
   ],
   "source": [
    "scipy.stats.ttest_ind(nino3_autumn,nw_autumn)"
   ]
  },
  {
   "cell_type": "code",
   "execution_count": 38,
   "id": "97dcc341",
   "metadata": {},
   "outputs": [
    {
     "data": {
      "text/plain": [
       "Ttest_indResult(statistic=-0.0013859461995651447, pvalue=0.9988953766074152)"
      ]
     },
     "execution_count": 38,
     "metadata": {},
     "output_type": "execute_result"
    }
   ],
   "source": [
    "scipy.stats.ttest_ind(nino34_autumn,nw_autumn)"
   ]
  },
  {
   "cell_type": "code",
   "execution_count": 39,
   "id": "2c8a3e2c",
   "metadata": {},
   "outputs": [
    {
     "data": {
      "text/plain": [
       "Ttest_indResult(statistic=0.07843347043125971, pvalue=0.9375514434740727)"
      ]
     },
     "execution_count": 39,
     "metadata": {},
     "output_type": "execute_result"
    }
   ],
   "source": [
    "scipy.stats.ttest_ind(nino4_autumn,nw_autumn)"
   ]
  },
  {
   "cell_type": "code",
   "execution_count": 40,
   "id": "2271241d",
   "metadata": {},
   "outputs": [
    {
     "data": {
      "text/plain": [
       "Ttest_indResult(statistic=0.8922587602823164, pvalue=0.37318679595097026)"
      ]
     },
     "execution_count": 40,
     "metadata": {},
     "output_type": "execute_result"
    }
   ],
   "source": [
    "scipy.stats.ttest_ind(nct_autumn,nw_autumn)"
   ]
  },
  {
   "cell_type": "code",
   "execution_count": 41,
   "id": "816a6468",
   "metadata": {},
   "outputs": [
    {
     "data": {
      "text/plain": [
       "Ttest_indResult(statistic=-0.5056874788975994, pvalue=0.6135603474372945)"
      ]
     },
     "execution_count": 41,
     "metadata": {},
     "output_type": "execute_result"
    }
   ],
   "source": [
    "scipy.stats.ttest_ind(nwp_autumn,nw_autumn)"
   ]
  },
  {
   "cell_type": "code",
   "execution_count": 42,
   "id": "4d2ceea1",
   "metadata": {},
   "outputs": [
    {
     "data": {
      "text/plain": [
       "Ttest_indResult(statistic=2.947979057199789, pvalue=0.003528220848427963)"
      ]
     },
     "execution_count": 42,
     "metadata": {},
     "output_type": "execute_result"
    }
   ],
   "source": [
    "scipy.stats.ttest_ind(nino3_autumn,ne_autumn)"
   ]
  },
  {
   "cell_type": "code",
   "execution_count": 43,
   "id": "1cbf1015",
   "metadata": {},
   "outputs": [
    {
     "data": {
      "text/plain": [
       "Ttest_indResult(statistic=2.1525346198769517, pvalue=0.032396199619114927)"
      ]
     },
     "execution_count": 43,
     "metadata": {},
     "output_type": "execute_result"
    }
   ],
   "source": [
    "scipy.stats.ttest_ind(nino34_autumn,ne_autumn)"
   ]
  },
  {
   "cell_type": "code",
   "execution_count": 44,
   "id": "8b3edc18",
   "metadata": {},
   "outputs": [
    {
     "data": {
      "text/plain": [
       "Ttest_indResult(statistic=2.363349332547055, pvalue=0.01894355153241468)"
      ]
     },
     "execution_count": 44,
     "metadata": {},
     "output_type": "execute_result"
    }
   ],
   "source": [
    "scipy.stats.ttest_ind(nino4_autumn,ne_autumn)"
   ]
  },
  {
   "cell_type": "code",
   "execution_count": 45,
   "id": "07070b5b",
   "metadata": {},
   "outputs": [
    {
     "data": {
      "text/plain": [
       "Ttest_indResult(statistic=3.093820452795884, pvalue=0.0022206040929361112)"
      ]
     },
     "execution_count": 45,
     "metadata": {},
     "output_type": "execute_result"
    }
   ],
   "source": [
    "scipy.stats.ttest_ind(nct_autumn,ne_autumn)"
   ]
  },
  {
   "cell_type": "code",
   "execution_count": 46,
   "id": "fa0511f9",
   "metadata": {},
   "outputs": [
    {
     "data": {
      "text/plain": [
       "Ttest_indResult(statistic=2.1781455643359915, pvalue=0.030411681199128564)"
      ]
     },
     "execution_count": 46,
     "metadata": {},
     "output_type": "execute_result"
    }
   ],
   "source": [
    "scipy.stats.ttest_ind(nwp_autumn,ne_autumn)"
   ]
  },
  {
   "cell_type": "code",
   "execution_count": 1,
   "id": "9ff2b500",
   "metadata": {},
   "outputs": [
    {
     "name": "stderr",
     "output_type": "stream",
     "text": [
      "/g/data3/hh5/public/apps/miniconda3/envs/analysis3-21.04/lib/python3.8/site-packages/xarray/coding/times.py:119: SerializationWarning: Ambiguous reference date string: 1-1-1 0:0:0. The first value is assumed to be the year hence will be padded with zeros to remove the ambiguity (the padded reference date string is: 0001-1-1 0:0:0). To remove this message, remove the ambiguity by padding your reference date strings with zeros.\n",
      "  warnings.warn(warning_msg, SerializationWarning)\n",
      "/g/data3/hh5/public/apps/miniconda3/envs/analysis3-21.04/lib/python3.8/site-packages/xarray/coding/times.py:527: SerializationWarning: Unable to decode time axis into full numpy.datetime64 objects, continuing using cftime.datetime objects instead, reason: dates out of range\n",
      "  dtype = _decode_cf_datetime_dtype(data, units, calendar, self.use_cftime)\n",
      "/g/data3/hh5/public/apps/miniconda3/envs/analysis3-21.04/lib/python3.8/site-packages/xarray/core/indexing.py:572: SerializationWarning: Unable to decode time axis into full numpy.datetime64 objects, continuing using cftime.datetime objects instead, reason: dates out of range\n",
      "  return np.asarray(array[self.key], dtype=None)\n"
     ]
    }
   ],
   "source": [
    "import xarray as xr\n",
    "import netCDF4 as nc\n",
    "import numpy as np\n",
    "import matplotlib.pyplot as plt\n",
    "%matplotlib inline\n",
    "ds=xr.open_dataset('/g/data/eg3/jxb548/OBSDATA/rr_monthly_0.25.1900-2015.nc')\n",
    "rr=ds.rr\n",
    "land_sea_ds = xr.open_dataset('/g/data/eg3/pfd548/gridarea/land-sea_mask/fractional_land.1.5-deg.nc')\n",
    "nw_area=rr.sel(lat=slice(-26,-10),lon=slice(112,138))\n",
    "ne_area=rr.sel(lat=slice(-26,-10),lon=slice(138,156))\n",
    "url = 'http://dapds00.nci.org.au/thredds/dodsC/rr3/CMIP5/output1/CSIRO-BOM/ACCESS1-3/historical/fx/atmos/fx/r0i0p0/latest/sftlf/sftlf_fx_ACCESS1-3_historical_r0i0p0.nc'\n",
    "landfrac = xr.open_dataset(url).sftlf\n",
    "nw_land=nw_area.where(landfrac>0)\n",
    "ne_land=ne_area.where(landfrac>0)\n",
    "nw_climate=nw_land.sel(time=slice('1950','1979')).groupby('time.month').mean()\n",
    "ne_climate=ne_land.sel(time=slice('1950','1979')).groupby('time.month').mean()\n",
    "nw_anomaly=(nw_land.groupby('time.month')-nw_climate).mean(dim=['lon','lat'])\n",
    "ne_anomaly=(ne_land.groupby('time.month')-ne_climate).mean(dim=['lon','lat'])\n",
    "nw_DJF=nw_anomaly.groupby('time.season')['DJF']\n",
    "ne_DJF=ne_anomaly.groupby('time.season')['DJF']\n",
    "ds2=xr.open_dataset('/home/563/lx7831/ncfile/sst.mnmean.nc')\n",
    "sst=ds2.sst\n",
    "nino3_area=sst.sel(lat=slice(5,-5),lon=slice(210,270))\n",
    "nino34_area=sst.sel(lat=slice(5,-5),lon=slice(190,240))\n",
    "nino4_area=sst.sel(lat=slice(5,-5),lon=slice(160,210))\n",
    "nino3_climate=nino3_area.sel(time=slice('1950','1979')).groupby('time.month').mean()\n",
    "nino34_climate=nino34_area.sel(time=slice('1950','1979')).groupby('time.month').mean()\n",
    "nino4_climate=nino4_area.sel(time=slice('1950','1979')).groupby('time.month').mean()\n",
    "nino3_anomaly=(nino3_area.groupby('time.month')-nino3_climate).mean(dim='lat').mean(dim='lon')\n",
    "nino34_anomaly=(nino34_area.groupby('time.month')-nino34_climate).mean(dim='lat').mean(dim='lon')\n",
    "nino4_anomaly=(nino4_area.groupby('time.month')-nino4_climate).mean(dim='lat').mean(dim='lon')\n",
    "alpha=xr.where(nino3_anomaly*nino4_anomaly>0,0.4,0)\n",
    "nct=nino3_anomaly-alpha*nino4_anomaly\n",
    "nwp=nino4_anomaly-alpha*nino3_anomaly\n",
    "nino3_rolling=nino3_anomaly.rolling(time=5).mean()\n",
    "nino34_rolling=nino34_anomaly.rolling(time=5).mean()\n",
    "nino4_rolling=nino4_anomaly.rolling(time=5).mean()\n",
    "nct_rolling=nct.rolling(time=5).mean()\n",
    "nwp_rolling=nwp.rolling(time=5).mean()\n",
    "nino3_modern=nino3_rolling.sel(time=slice('1900','2015'))\n",
    "nino34_modern=nino34_rolling.sel(time=slice('1900','2015'))\n",
    "nino4_modern=nino4_rolling.sel(time=slice('1900','2015'))\n",
    "nct_modern=nct_rolling.sel(time=slice('1900','2015'))\n",
    "nwp_modern=nwp_rolling.sel(time=slice('1900','2015'))\n",
    "nino3_DJF=nino3_modern.groupby('time.season')['DJF']\n",
    "nino34_DJF=nino34_modern.groupby('time.season')['DJF']\n",
    "nino4_DJF=nino4_modern.groupby('time.season')['DJF']\n",
    "nct_DJF=nct_modern.groupby('time.season')['DJF']\n",
    "nwp_DJF=nwp_modern.groupby('time.season')['DJF']\n",
    "nct_summer=nct_DJF.resample(time='AS-DEC').mean()\n",
    "nwp_summer=nwp_DJF.resample(time='AS-DEC').mean()\n",
    "nino3_summer=nino3_DJF.resample(time='AS-DEC').mean()\n",
    "nino4_summer=nino4_DJF.resample(time='AS-DEC').mean()\n",
    "nino34_summer=nino34_DJF.resample(time='AS-DEC').mean()\n",
    "nw_summer=nw_DJF.resample(time='AS-DEC').mean()\n",
    "ne_summer=ne_DJF.resample(time='AS-DEC').mean()\n",
    "import pandas as pd\n",
    "nw_SON=nw_anomaly.groupby('time.season')['SON']\n",
    "ne_SON=ne_anomaly.groupby('time.season')['SON']\n",
    "nino3_SON=nino3_modern.groupby('time.season')['SON']\n",
    "nino34_SON=nino34_modern.groupby('time.season')['SON']\n",
    "nino4_SON=nino4_modern.groupby('time.season')['SON']\n",
    "nct_SON=nct_modern.groupby('time.season')['SON']\n",
    "nwp_SON=nwp_modern.groupby('time.season')['SON']\n",
    "nct_spring=nct_SON.resample(time='AS-SEP').mean()\n",
    "nwp_spring=nwp_SON.resample(time='AS-SEP').mean()\n",
    "nino3_spring=nino3_SON.resample(time='AS-SEP').mean()\n",
    "nino4_spring=nino4_SON.resample(time='AS-SEP').mean()\n",
    "nino34_spring=nino34_SON.resample(time='AS-SEP').mean()\n",
    "nw_spring=nw_SON.resample(time='AS-SEP').mean()\n",
    "ne_spring=ne_SON.resample(time='AS-SEP').mean()\n",
    "nw_MAM=nw_anomaly.groupby('time.season')['MAM']\n",
    "ne_MAM=ne_anomaly.groupby('time.season')['MAM']\n",
    "nino3_MAM=nino3_modern.groupby('time.season')['MAM']\n",
    "nino34_MAM=nino34_modern.groupby('time.season')['MAM']\n",
    "nino4_MAM=nino4_modern.groupby('time.season')['MAM']\n",
    "nct_MAM=nct_modern.groupby('time.season')['MAM']\n",
    "nwp_MAM=nwp_modern.groupby('time.season')['MAM']\n",
    "nct_autumn=nct_MAM.resample(time='AS-MAR').mean()\n",
    "nwp_autumn=nwp_MAM.resample(time='AS-MAR').mean()\n",
    "nino3_autumn=nino3_MAM.resample(time='AS-MAR').mean()\n",
    "nino4_autumn=nino4_MAM.resample(time='AS-MAR').mean()\n",
    "nino34_autumn=nino34_MAM.resample(time='AS-MAR').mean()\n",
    "nw_autumn=nw_MAM.resample(time='AS-MAR').mean()\n",
    "ne_autumn=ne_MAM.resample(time='AS-MAR').mean()\n",
    "import scipy\n",
    "import scipy.stats"
   ]
  },
  {
   "cell_type": "code",
   "execution_count": 2,
   "id": "568c6bce",
   "metadata": {},
   "outputs": [
    {
     "ename": "TypeError",
     "evalue": "pearsonr() missing 2 required positional arguments: 'x' and 'y'",
     "output_type": "error",
     "traceback": [
      "\u001b[0;31m---------------------------------------------------------------------------\u001b[0m",
      "\u001b[0;31mTypeError\u001b[0m                                 Traceback (most recent call last)",
      "\u001b[0;32m<ipython-input-2-6220ad2eb43d>\u001b[0m in \u001b[0;36m<module>\u001b[0;34m\u001b[0m\n\u001b[0;32m----> 1\u001b[0;31m \u001b[0mscipy\u001b[0m\u001b[0;34m.\u001b[0m\u001b[0mstats\u001b[0m\u001b[0;34m.\u001b[0m\u001b[0mpearsonr\u001b[0m\u001b[0;34m(\u001b[0m\u001b[0;34m)\u001b[0m\u001b[0;34m\u001b[0m\u001b[0;34m\u001b[0m\u001b[0m\n\u001b[0m",
      "\u001b[0;31mTypeError\u001b[0m: pearsonr() missing 2 required positional arguments: 'x' and 'y'"
     ]
    }
   ],
   "source": [
    "scipy.stats.pearsonr()"
   ]
  },
  {
   "cell_type": "code",
   "execution_count": 3,
   "id": "dbbc6f48",
   "metadata": {},
   "outputs": [
    {
     "data": {
      "text/plain": [
       "<function scipy.stats.stats.pearsonr(x, y)>"
      ]
     },
     "execution_count": 3,
     "metadata": {},
     "output_type": "execute_result"
    }
   ],
   "source": [
    "scipy.stats.pearsonr"
   ]
  },
  {
   "cell_type": "code",
   "execution_count": 4,
   "id": "d30d266b",
   "metadata": {},
   "outputs": [
    {
     "data": {
      "text/plain": [
       "(-0.09607021675752442, 0.0003314166584157628)"
      ]
     },
     "execution_count": 4,
     "metadata": {},
     "output_type": "execute_result"
    }
   ],
   "source": [
    "scipy.stats.pearsonr(nino3_modern,nw_anomaly)"
   ]
  },
  {
   "cell_type": "code",
   "execution_count": 5,
   "id": "c958c578",
   "metadata": {},
   "outputs": [
    {
     "data": {
      "text/plain": [
       "(-0.11015310899957673, 3.81171375871023e-05)"
      ]
     },
     "execution_count": 5,
     "metadata": {},
     "output_type": "execute_result"
    }
   ],
   "source": [
    "scipy.stats.pearsonr(nino34_modern,nw_anomaly)"
   ]
  },
  {
   "cell_type": "code",
   "execution_count": 6,
   "id": "2c592b42",
   "metadata": {},
   "outputs": [
    {
     "data": {
      "text/plain": [
       "(-0.08510701375039446, 0.001481839963185232)"
      ]
     },
     "execution_count": 6,
     "metadata": {},
     "output_type": "execute_result"
    }
   ],
   "source": [
    "scipy.stats.pearsonr(nino4_modern,nw_anomaly)"
   ]
  },
  {
   "cell_type": "code",
   "execution_count": 7,
   "id": "dc8dc4f3",
   "metadata": {},
   "outputs": [
    {
     "data": {
      "text/plain": [
       "(-0.08776230818386144, 0.001046366118405924)"
      ]
     },
     "execution_count": 7,
     "metadata": {},
     "output_type": "execute_result"
    }
   ],
   "source": [
    "scipy.stats.pearsonr(nct_modern,nw_anomaly)"
   ]
  },
  {
   "cell_type": "code",
   "execution_count": 8,
   "id": "b686a0e8",
   "metadata": {},
   "outputs": [
    {
     "data": {
      "text/plain": [
       "(-0.06252205845041106, 0.01965577225041411)"
      ]
     },
     "execution_count": 8,
     "metadata": {},
     "output_type": "execute_result"
    }
   ],
   "source": [
    "scipy.stats.pearsonr(nwp_modern,nw_anomaly)"
   ]
  },
  {
   "cell_type": "code",
   "execution_count": 9,
   "id": "a1a7eba8",
   "metadata": {},
   "outputs": [
    {
     "data": {
      "text/plain": [
       "(-0.23266834605129416, 1.4445438836661473e-18)"
      ]
     },
     "execution_count": 9,
     "metadata": {},
     "output_type": "execute_result"
    }
   ],
   "source": [
    "scipy.stats.pearsonr(nino3_modern,ne_anomaly)"
   ]
  },
  {
   "cell_type": "code",
   "execution_count": 10,
   "id": "07d36660",
   "metadata": {},
   "outputs": [
    {
     "data": {
      "text/plain": [
       "(-0.25295365888009047, 9.20951907192629e-22)"
      ]
     },
     "execution_count": 10,
     "metadata": {},
     "output_type": "execute_result"
    }
   ],
   "source": [
    "scipy.stats.pearsonr(nino34_modern,ne_anomaly)"
   ]
  },
  {
   "cell_type": "code",
   "execution_count": 11,
   "id": "6f9690b4",
   "metadata": {},
   "outputs": [
    {
     "data": {
      "text/plain": [
       "(-0.2642971304116002, 1.1157477459450589e-23)"
      ]
     },
     "execution_count": 11,
     "metadata": {},
     "output_type": "execute_result"
    }
   ],
   "source": [
    "scipy.stats.pearsonr(nino4_modern,ne_anomaly)"
   ]
  },
  {
   "cell_type": "code",
   "execution_count": 12,
   "id": "2a915775",
   "metadata": {},
   "outputs": [
    {
     "data": {
      "text/plain": [
       "(-0.19753348709567628, 1.0327125030631691e-13)"
      ]
     },
     "execution_count": 12,
     "metadata": {},
     "output_type": "execute_result"
    }
   ],
   "source": [
    "scipy.stats.pearsonr(nct_modern,ne_anomaly)"
   ]
  },
  {
   "cell_type": "code",
   "execution_count": 13,
   "id": "ef6eb391",
   "metadata": {},
   "outputs": [
    {
     "data": {
      "text/plain": [
       "(-0.2278906944970291, 7.410742196050034e-18)"
      ]
     },
     "execution_count": 13,
     "metadata": {},
     "output_type": "execute_result"
    }
   ],
   "source": [
    "scipy.stats.pearsonr(nwp_modern,ne_anomaly)"
   ]
  },
  {
   "cell_type": "code",
   "execution_count": 14,
   "id": "2fe11be9",
   "metadata": {},
   "outputs": [
    {
     "data": {
      "text/plain": [
       "(-0.3332436302514764, 0.0002568500884035793)"
      ]
     },
     "execution_count": 14,
     "metadata": {},
     "output_type": "execute_result"
    }
   ],
   "source": [
    "scipy.stats.pearsonr(nino3_spring,nw_spring)"
   ]
  },
  {
   "cell_type": "code",
   "execution_count": 15,
   "id": "1f1c95ad",
   "metadata": {},
   "outputs": [
    {
     "data": {
      "text/plain": [
       "(-0.39121866540998174, 1.41003803438381e-05)"
      ]
     },
     "execution_count": 15,
     "metadata": {},
     "output_type": "execute_result"
    }
   ],
   "source": [
    "scipy.stats.pearsonr(nino34_spring,nw_spring)"
   ]
  },
  {
   "cell_type": "code",
   "execution_count": 16,
   "id": "575da0cc",
   "metadata": {},
   "outputs": [
    {
     "data": {
      "text/plain": [
       "(-0.40405181056041684, 6.860715505410012e-06)"
      ]
     },
     "execution_count": 16,
     "metadata": {},
     "output_type": "execute_result"
    }
   ],
   "source": [
    "scipy.stats.pearsonr(nino4_spring,nw_spring)"
   ]
  },
  {
   "cell_type": "code",
   "execution_count": 17,
   "id": "80766d21",
   "metadata": {},
   "outputs": [
    {
     "data": {
      "text/plain": [
       "(-0.2789575407589627, 0.002426483752337086)"
      ]
     },
     "execution_count": 17,
     "metadata": {},
     "output_type": "execute_result"
    }
   ],
   "source": [
    "scipy.stats.pearsonr(nct_spring,nw_spring)"
   ]
  },
  {
   "cell_type": "code",
   "execution_count": 18,
   "id": "e8454613",
   "metadata": {},
   "outputs": [
    {
     "data": {
      "text/plain": [
       "(-0.34760810248841945, 0.00013170683106465876)"
      ]
     },
     "execution_count": 18,
     "metadata": {},
     "output_type": "execute_result"
    }
   ],
   "source": [
    "scipy.stats.pearsonr(nwp_spring,nw_spring)"
   ]
  },
  {
   "cell_type": "code",
   "execution_count": 19,
   "id": "1be8c8ec",
   "metadata": {},
   "outputs": [
    {
     "data": {
      "text/plain": [
       "(-0.5431120846823035, 2.998589485654046e-10)"
      ]
     },
     "execution_count": 19,
     "metadata": {},
     "output_type": "execute_result"
    }
   ],
   "source": [
    "scipy.stats.pearsonr(nino3_spring,ne_spring)"
   ]
  },
  {
   "cell_type": "code",
   "execution_count": 20,
   "id": "8ebfa953",
   "metadata": {},
   "outputs": [
    {
     "data": {
      "text/plain": [
       "(-0.614772138407117, 2.1188946354225215e-13)"
      ]
     },
     "execution_count": 20,
     "metadata": {},
     "output_type": "execute_result"
    }
   ],
   "source": [
    "scipy.stats.pearsonr(nino34_spring,ne_spring)"
   ]
  },
  {
   "cell_type": "code",
   "execution_count": 21,
   "id": "2b2dfda8",
   "metadata": {},
   "outputs": [
    {
     "data": {
      "text/plain": [
       "(-0.6595591084416396, 8.213138783466862e-16)"
      ]
     },
     "execution_count": 21,
     "metadata": {},
     "output_type": "execute_result"
    }
   ],
   "source": [
    "scipy.stats.pearsonr(nino4_spring,ne_spring)"
   ]
  },
  {
   "cell_type": "code",
   "execution_count": 22,
   "id": "9bd5f2d2",
   "metadata": {},
   "outputs": [
    {
     "data": {
      "text/plain": [
       "(-0.464498043658522, 1.501412050229127e-07)"
      ]
     },
     "execution_count": 22,
     "metadata": {},
     "output_type": "execute_result"
    }
   ],
   "source": [
    "scipy.stats.pearsonr(nct_spring,ne_spring)"
   ]
  },
  {
   "cell_type": "code",
   "execution_count": 23,
   "id": "7887461c",
   "metadata": {},
   "outputs": [
    {
     "data": {
      "text/plain": [
       "(-0.572686523458991, 1.8552940121888373e-11)"
      ]
     },
     "execution_count": 23,
     "metadata": {},
     "output_type": "execute_result"
    }
   ],
   "source": [
    "scipy.stats.pearsonr(nwp_spring,ne_spring)"
   ]
  },
  {
   "cell_type": "code",
   "execution_count": 24,
   "id": "77191176",
   "metadata": {},
   "outputs": [
    {
     "data": {
      "text/plain": [
       "(-0.3396507676528703, 0.00017935528787163955)"
      ]
     },
     "execution_count": 24,
     "metadata": {},
     "output_type": "execute_result"
    }
   ],
   "source": [
    "scipy.stats.pearsonr(nino3_summer,ne_summer)"
   ]
  },
  {
   "cell_type": "code",
   "execution_count": 25,
   "id": "9bbd4308",
   "metadata": {},
   "outputs": [
    {
     "data": {
      "text/plain": [
       "(-0.37585704796354846, 2.9661861176172263e-05)"
      ]
     },
     "execution_count": 25,
     "metadata": {},
     "output_type": "execute_result"
    }
   ],
   "source": [
    "scipy.stats.pearsonr(nino34_summer,ne_summer)"
   ]
  },
  {
   "cell_type": "code",
   "execution_count": 26,
   "id": "806726aa",
   "metadata": {},
   "outputs": [
    {
     "data": {
      "text/plain": [
       "(-0.38841940255104357, 1.508383711790319e-05)"
      ]
     },
     "execution_count": 26,
     "metadata": {},
     "output_type": "execute_result"
    }
   ],
   "source": [
    "scipy.stats.pearsonr(nino4_summer,ne_summer)"
   ]
  },
  {
   "cell_type": "code",
   "execution_count": 27,
   "id": "90663252",
   "metadata": {},
   "outputs": [
    {
     "data": {
      "text/plain": [
       "(-0.3005725536033053, 0.0009920615623293576)"
      ]
     },
     "execution_count": 27,
     "metadata": {},
     "output_type": "execute_result"
    }
   ],
   "source": [
    "scipy.stats.pearsonr(nct_summer,ne_summer)"
   ]
  },
  {
   "cell_type": "code",
   "execution_count": 28,
   "id": "642402fe",
   "metadata": {},
   "outputs": [
    {
     "data": {
      "text/plain": [
       "(-0.3462658605711253, 0.00013118139428248816)"
      ]
     },
     "execution_count": 28,
     "metadata": {},
     "output_type": "execute_result"
    }
   ],
   "source": [
    "scipy.stats.pearsonr(nwp_summer,ne_summer)"
   ]
  },
  {
   "cell_type": "code",
   "execution_count": 29,
   "id": "fa778f03",
   "metadata": {},
   "outputs": [
    {
     "data": {
      "text/plain": [
       "(-0.11960718485228822, 0.19897565575566298)"
      ]
     },
     "execution_count": 29,
     "metadata": {},
     "output_type": "execute_result"
    }
   ],
   "source": [
    "scipy.stats.pearsonr(nino3_summer,nw_summer)"
   ]
  },
  {
   "cell_type": "code",
   "execution_count": 30,
   "id": "01dd769f",
   "metadata": {},
   "outputs": [
    {
     "data": {
      "text/plain": [
       "(-0.1251538198040436, 0.17878554699969434)"
      ]
     },
     "execution_count": 30,
     "metadata": {},
     "output_type": "execute_result"
    }
   ],
   "source": [
    "scipy.stats.pearsonr(nino34_summer,nw_summer)"
   ]
  },
  {
   "cell_type": "code",
   "execution_count": 31,
   "id": "185b0122",
   "metadata": {},
   "outputs": [
    {
     "data": {
      "text/plain": [
       "(-0.05755220892505821, 0.5376637389484072)"
      ]
     },
     "execution_count": 31,
     "metadata": {},
     "output_type": "execute_result"
    }
   ],
   "source": [
    "scipy.stats.pearsonr(nino4_summer,nw_summer)"
   ]
  },
  {
   "cell_type": "code",
   "execution_count": 32,
   "id": "ff478c28",
   "metadata": {},
   "outputs": [
    {
     "data": {
      "text/plain": [
       "(-0.12762207423934135, 0.17030119803448276)"
      ]
     },
     "execution_count": 32,
     "metadata": {},
     "output_type": "execute_result"
    }
   ],
   "source": [
    "scipy.stats.pearsonr(nct_summer,nw_summer)"
   ]
  },
  {
   "cell_type": "code",
   "execution_count": 33,
   "id": "53f97a99",
   "metadata": {},
   "outputs": [
    {
     "data": {
      "text/plain": [
       "(-0.004628686698554305, 0.9604972390640962)"
      ]
     },
     "execution_count": 33,
     "metadata": {},
     "output_type": "execute_result"
    }
   ],
   "source": [
    "scipy.stats.pearsonr(nwp_summer,nw_summer)"
   ]
  },
  {
   "cell_type": "code",
   "execution_count": 34,
   "id": "30079bd8",
   "metadata": {},
   "outputs": [
    {
     "data": {
      "text/plain": [
       "(-0.08622023992132516, 0.3574269939804016)"
      ]
     },
     "execution_count": 34,
     "metadata": {},
     "output_type": "execute_result"
    }
   ],
   "source": [
    "scipy.stats.pearsonr(nino3_autumn,nw_autumn)"
   ]
  },
  {
   "cell_type": "code",
   "execution_count": 35,
   "id": "4bdb8e8e",
   "metadata": {},
   "outputs": [
    {
     "data": {
      "text/plain": [
       "(-0.14963640524526683, 0.10888604610551712)"
      ]
     },
     "execution_count": 35,
     "metadata": {},
     "output_type": "execute_result"
    }
   ],
   "source": [
    "scipy.stats.pearsonr(nino34_autumn,nw_autumn)"
   ]
  },
  {
   "cell_type": "code",
   "execution_count": 36,
   "id": "2aa4d4c6",
   "metadata": {},
   "outputs": [
    {
     "data": {
      "text/plain": [
       "(-0.1877093307092645, 0.04361519762569301)"
      ]
     },
     "execution_count": 36,
     "metadata": {},
     "output_type": "execute_result"
    }
   ],
   "source": [
    "scipy.stats.pearsonr(nino4_autumn,nw_autumn)"
   ]
  },
  {
   "cell_type": "code",
   "execution_count": 37,
   "id": "45403881",
   "metadata": {},
   "outputs": [
    {
     "data": {
      "text/plain": [
       "(-0.03268103974925262, 0.727639869108525)"
      ]
     },
     "execution_count": 37,
     "metadata": {},
     "output_type": "execute_result"
    }
   ],
   "source": [
    "scipy.stats.pearsonr(nct_autumn,nw_autumn)"
   ]
  },
  {
   "cell_type": "code",
   "execution_count": 38,
   "id": "eb6a57ba",
   "metadata": {},
   "outputs": [
    {
     "data": {
      "text/plain": [
       "(-0.22068761103523762, 0.017286022970432715)"
      ]
     },
     "execution_count": 38,
     "metadata": {},
     "output_type": "execute_result"
    }
   ],
   "source": [
    "scipy.stats.pearsonr(nwp_autumn,nw_autumn)"
   ]
  },
  {
   "cell_type": "code",
   "execution_count": 39,
   "id": "326a5837",
   "metadata": {},
   "outputs": [
    {
     "data": {
      "text/plain": [
       "(-0.21450940246928332, 0.020761038993723568)"
      ]
     },
     "execution_count": 39,
     "metadata": {},
     "output_type": "execute_result"
    }
   ],
   "source": [
    "scipy.stats.pearsonr(nino3_autumn,ne_autumn)"
   ]
  },
  {
   "cell_type": "code",
   "execution_count": 40,
   "id": "90fba314",
   "metadata": {},
   "outputs": [
    {
     "data": {
      "text/plain": [
       "(-0.24325044705489976, 0.008509407003605338)"
      ]
     },
     "execution_count": 40,
     "metadata": {},
     "output_type": "execute_result"
    }
   ],
   "source": [
    "scipy.stats.pearsonr(nino34_autumn,ne_autumn)"
   ]
  },
  {
   "cell_type": "code",
   "execution_count": 41,
   "id": "fb1f77cb",
   "metadata": {},
   "outputs": [
    {
     "data": {
      "text/plain": [
       "(-0.30465878533248497, 0.000883693011593226)"
      ]
     },
     "execution_count": 41,
     "metadata": {},
     "output_type": "execute_result"
    }
   ],
   "source": [
    "scipy.stats.pearsonr(nino4_autumn,ne_autumn)"
   ]
  },
  {
   "cell_type": "code",
   "execution_count": 42,
   "id": "0f813458",
   "metadata": {},
   "outputs": [
    {
     "data": {
      "text/plain": [
       "(-0.14523724835760066, 0.1198096827558042)"
      ]
     },
     "execution_count": 42,
     "metadata": {},
     "output_type": "execute_result"
    }
   ],
   "source": [
    "scipy.stats.pearsonr(nct_autumn,ne_autumn)"
   ]
  },
  {
   "cell_type": "code",
   "execution_count": 43,
   "id": "d98fe9e5",
   "metadata": {},
   "outputs": [
    {
     "data": {
      "text/plain": [
       "(-0.31220299670506363, 0.0006453314356773412)"
      ]
     },
     "execution_count": 43,
     "metadata": {},
     "output_type": "execute_result"
    }
   ],
   "source": [
    "scipy.stats.pearsonr(nwp_autumn,ne_autumn)"
   ]
  },
  {
   "cell_type": "code",
   "execution_count": null,
   "id": "fc0f8688",
   "metadata": {},
   "outputs": [],
   "source": []
  }
 ],
 "metadata": {
  "kernelspec": {
   "display_name": "Python [conda env:analysis3-21.04]",
   "language": "python",
   "name": "conda-env-analysis3-21.04-py"
  },
  "language_info": {
   "codemirror_mode": {
    "name": "ipython",
    "version": 3
   },
   "file_extension": ".py",
   "mimetype": "text/x-python",
   "name": "python",
   "nbconvert_exporter": "python",
   "pygments_lexer": "ipython3",
   "version": "3.8.10"
  }
 },
 "nbformat": 4,
 "nbformat_minor": 5
}
